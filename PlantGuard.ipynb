{
  "nbformat": 4,
  "nbformat_minor": 0,
  "metadata": {
    "colab": {
      "provenance": []
    },
    "kernelspec": {
      "name": "python3",
      "display_name": "Python 3"
    },
    "language_info": {
      "name": "python"
    }
  },
  "cells": [
    {
      "cell_type": "code",
      "execution_count": null,
      "metadata": {
        "colab": {
          "base_uri": "https://localhost:8080/"
        },
        "id": "Fc7k_L8xwdMP",
        "outputId": "ef88ab92-50c1-48e6-c8a4-aa1dca72e7ab"
      },
      "outputs": [
        {
          "output_type": "stream",
          "name": "stdout",
          "text": [
            "Requirement already satisfied: tensorflow in /usr/local/lib/python3.11/dist-packages (2.18.0)\n",
            "Requirement already satisfied: keras in /usr/local/lib/python3.11/dist-packages (3.8.0)\n",
            "Requirement already satisfied: opencv-python in /usr/local/lib/python3.11/dist-packages (4.11.0.86)\n",
            "Requirement already satisfied: absl-py>=1.0.0 in /usr/local/lib/python3.11/dist-packages (from tensorflow) (1.4.0)\n",
            "Requirement already satisfied: astunparse>=1.6.0 in /usr/local/lib/python3.11/dist-packages (from tensorflow) (1.6.3)\n",
            "Requirement already satisfied: flatbuffers>=24.3.25 in /usr/local/lib/python3.11/dist-packages (from tensorflow) (25.2.10)\n",
            "Requirement already satisfied: gast!=0.5.0,!=0.5.1,!=0.5.2,>=0.2.1 in /usr/local/lib/python3.11/dist-packages (from tensorflow) (0.6.0)\n",
            "Requirement already satisfied: google-pasta>=0.1.1 in /usr/local/lib/python3.11/dist-packages (from tensorflow) (0.2.0)\n",
            "Requirement already satisfied: libclang>=13.0.0 in /usr/local/lib/python3.11/dist-packages (from tensorflow) (18.1.1)\n",
            "Requirement already satisfied: opt-einsum>=2.3.2 in /usr/local/lib/python3.11/dist-packages (from tensorflow) (3.4.0)\n",
            "Requirement already satisfied: packaging in /usr/local/lib/python3.11/dist-packages (from tensorflow) (24.2)\n",
            "Requirement already satisfied: protobuf!=4.21.0,!=4.21.1,!=4.21.2,!=4.21.3,!=4.21.4,!=4.21.5,<6.0.0dev,>=3.20.3 in /usr/local/lib/python3.11/dist-packages (from tensorflow) (5.29.4)\n",
            "Requirement already satisfied: requests<3,>=2.21.0 in /usr/local/lib/python3.11/dist-packages (from tensorflow) (2.32.3)\n",
            "Requirement already satisfied: setuptools in /usr/local/lib/python3.11/dist-packages (from tensorflow) (75.2.0)\n",
            "Requirement already satisfied: six>=1.12.0 in /usr/local/lib/python3.11/dist-packages (from tensorflow) (1.17.0)\n",
            "Requirement already satisfied: termcolor>=1.1.0 in /usr/local/lib/python3.11/dist-packages (from tensorflow) (3.1.0)\n",
            "Requirement already satisfied: typing-extensions>=3.6.6 in /usr/local/lib/python3.11/dist-packages (from tensorflow) (4.13.2)\n",
            "Requirement already satisfied: wrapt>=1.11.0 in /usr/local/lib/python3.11/dist-packages (from tensorflow) (1.17.2)\n",
            "Requirement already satisfied: grpcio<2.0,>=1.24.3 in /usr/local/lib/python3.11/dist-packages (from tensorflow) (1.71.0)\n",
            "Requirement already satisfied: tensorboard<2.19,>=2.18 in /usr/local/lib/python3.11/dist-packages (from tensorflow) (2.18.0)\n",
            "Requirement already satisfied: numpy<2.1.0,>=1.26.0 in /usr/local/lib/python3.11/dist-packages (from tensorflow) (2.0.2)\n",
            "Requirement already satisfied: h5py>=3.11.0 in /usr/local/lib/python3.11/dist-packages (from tensorflow) (3.13.0)\n",
            "Requirement already satisfied: ml-dtypes<0.5.0,>=0.4.0 in /usr/local/lib/python3.11/dist-packages (from tensorflow) (0.4.1)\n",
            "Requirement already satisfied: tensorflow-io-gcs-filesystem>=0.23.1 in /usr/local/lib/python3.11/dist-packages (from tensorflow) (0.37.1)\n",
            "Requirement already satisfied: rich in /usr/local/lib/python3.11/dist-packages (from keras) (13.9.4)\n",
            "Requirement already satisfied: namex in /usr/local/lib/python3.11/dist-packages (from keras) (0.0.9)\n",
            "Requirement already satisfied: optree in /usr/local/lib/python3.11/dist-packages (from keras) (0.15.0)\n",
            "Requirement already satisfied: wheel<1.0,>=0.23.0 in /usr/local/lib/python3.11/dist-packages (from astunparse>=1.6.0->tensorflow) (0.45.1)\n",
            "Requirement already satisfied: charset-normalizer<4,>=2 in /usr/local/lib/python3.11/dist-packages (from requests<3,>=2.21.0->tensorflow) (3.4.1)\n",
            "Requirement already satisfied: idna<4,>=2.5 in /usr/local/lib/python3.11/dist-packages (from requests<3,>=2.21.0->tensorflow) (3.10)\n",
            "Requirement already satisfied: urllib3<3,>=1.21.1 in /usr/local/lib/python3.11/dist-packages (from requests<3,>=2.21.0->tensorflow) (2.4.0)\n",
            "Requirement already satisfied: certifi>=2017.4.17 in /usr/local/lib/python3.11/dist-packages (from requests<3,>=2.21.0->tensorflow) (2025.4.26)\n",
            "Requirement already satisfied: markdown>=2.6.8 in /usr/local/lib/python3.11/dist-packages (from tensorboard<2.19,>=2.18->tensorflow) (3.8)\n",
            "Requirement already satisfied: tensorboard-data-server<0.8.0,>=0.7.0 in /usr/local/lib/python3.11/dist-packages (from tensorboard<2.19,>=2.18->tensorflow) (0.7.2)\n",
            "Requirement already satisfied: werkzeug>=1.0.1 in /usr/local/lib/python3.11/dist-packages (from tensorboard<2.19,>=2.18->tensorflow) (3.1.3)\n",
            "Requirement already satisfied: markdown-it-py>=2.2.0 in /usr/local/lib/python3.11/dist-packages (from rich->keras) (3.0.0)\n",
            "Requirement already satisfied: pygments<3.0.0,>=2.13.0 in /usr/local/lib/python3.11/dist-packages (from rich->keras) (2.19.1)\n",
            "Requirement already satisfied: mdurl~=0.1 in /usr/local/lib/python3.11/dist-packages (from markdown-it-py>=2.2.0->rich->keras) (0.1.2)\n",
            "Requirement already satisfied: MarkupSafe>=2.1.1 in /usr/local/lib/python3.11/dist-packages (from werkzeug>=1.0.1->tensorboard<2.19,>=2.18->tensorflow) (3.0.2)\n"
          ]
        }
      ],
      "source": [
        "# Installing necessary libraries\n",
        "!pip install tensorflow keras opencv-python\n"
      ]
    },
    {
      "cell_type": "code",
      "source": [
        "import os\n",
        "import numpy as np\n",
        "import matplotlib.pyplot as plt\n",
        "import cv2\n",
        "from sklearn.model_selection import train_test_split\n",
        "from tensorflow.keras.utils import to_categorical\n",
        "from tensorflow.keras.models import Sequential\n",
        "from tensorflow.keras.layers import Conv2D, MaxPooling2D, Flatten, Dense\n"
      ],
      "metadata": {
        "id": "sHAYymPnwxF-"
      },
      "execution_count": null,
      "outputs": []
    },
    {
      "cell_type": "code",
      "source": [
        "from google.colab import drive\n",
        "drive.mount('/content/drive')"
      ],
      "metadata": {
        "colab": {
          "base_uri": "https://localhost:8080/"
        },
        "id": "84V9lr8x2NYI",
        "outputId": "385c9ded-d89c-4ddf-d77a-30b0b84fb188"
      },
      "execution_count": 4,
      "outputs": [
        {
          "output_type": "stream",
          "name": "stdout",
          "text": [
            "Mounted at /content/drive\n"
          ]
        }
      ]
    },
    {
      "cell_type": "code",
      "source": [
        "import zipfile\n",
        "import os\n",
        "\n",
        "# Path to the ZIP file in your Drive\n",
        "zip_path = '/content/drive/MyDrive/Colab Notebooks/Plant.zip'\n",
        "\n",
        "# Path to extract files\n",
        "extract_path = '/content/plant_dataset'\n",
        "\n",
        "# Unzip the dataset\n",
        "with zipfile.ZipFile(zip_path, 'r') as zip_ref:\n",
        "    zip_ref.extractall(extract_path)\n",
        "\n",
        "# Check if the data is extracted properly\n",
        "print(\"Extracted folders:\", os.listdir(extract_path))\n"
      ],
      "metadata": {
        "colab": {
          "base_uri": "https://localhost:8080/"
        },
        "id": "aQlv55aK2osU",
        "outputId": "71e6575f-bed5-40be-dd5b-39ca529b9d58"
      },
      "execution_count": 5,
      "outputs": [
        {
          "output_type": "stream",
          "name": "stdout",
          "text": [
            "Extracted folders: ['index.txt', 'data']\n"
          ]
        }
      ]
    },
    {
      "cell_type": "code",
      "source": [
        "# List the contents of the extracted folder\n",
        "for folder in os.listdir(extract_path):\n",
        "    folder_path = os.path.join(extract_path, folder)\n",
        "    if os.path.isdir(folder_path):\n",
        "        print(f\"Folder: {folder}\")\n",
        "        print(\"Files:\", os.listdir(folder_path))\n"
      ],
      "metadata": {
        "colab": {
          "base_uri": "https://localhost:8080/"
        },
        "id": "DYL-NW1L34xZ",
        "outputId": "4bb5f021-a080-4db8-bc16-0acb37a14239"
      },
      "execution_count": 6,
      "outputs": [
        {
          "output_type": "stream",
          "name": "stdout",
          "text": [
            "Folder: data\n",
            "Files: ['Potato___healthy', 'Potato___mosaic_virus', 'Tomato___late_blight', 'Raspberry___healthy', 'Grape___black_rot', 'Blueberry___healthy', 'Potato___pests', 'Tomato___spider_mites', 'Potato___nematode', 'Potato___early_blight', 'Bell_pepper___healthy', 'Coffee___healthy', 'Watermelon___anthracnose', 'Strawberry___healthy', 'Sugercane___red_rot', 'Potato___phytophthora', 'Cassava___brown_streak_disease', 'Rice___tungro', 'Sugercane___rust', 'Squash___powdery_mildew', 'Potato___late_blight', 'Grape___black_measles', 'Tomato___target_spot', 'Bell_pepper___bacterial_spot', 'Grape___leaf_blight', 'Tomato___early_blight', 'Apple___alternaria_leaf_spot', 'Rose___slug_sawfly', 'Cassava___green_mottle', 'Sugercane___healthy', 'Grape___Leaf_blight', 'Coffee___red_spider_mite', 'Strawberry___leaf_scorch', 'Rose___rust', 'Peach___bacterial_spot', 'Potato___bacterial_wilt', 'Sugercane___mosaic', 'Potato___leafroll_virus', 'Apple___gray_spot', 'Cherry___healthy', 'Rice___blast', 'Corn___northern_leaf_blight', 'Tomato___healthy', 'Tomato___leaf_mold', 'Orange___citrus_greening', 'Apple___black_rot', 'Coffee___rust', 'Corn___healthy', 'Rice___brown_spot', 'Apple___rust', 'Apple___brown_spot', 'Cherry___powdery_mildew', 'Tomato___mosaic_virus', 'Cassava___mosaic_disease', 'Apple___scab', 'Watermelon___downy_mildew', 'Tomato___septoria_leaf_spot', 'Peach___healthy', 'Sugercane___yellow_leaf', 'Tomato___leaf_curl', 'Corn___common_rust', 'Tomato___bacterial_spot', 'Grape___healthy', 'Watermelon___mosaic_virus', 'Rice___bacterial_blight', 'Cassava___bacterial_blight', 'Rose___healthy', 'Watermelon___healthy', 'Cassava___healthy', 'Soybean___healthy', 'Corn___gray_leaf_spot', 'Apple___healthy']\n"
          ]
        }
      ]
    },
    {
      "cell_type": "code",
      "source": [
        "# Check contents of a specific folder (e.g., 'Apple___scab')\n",
        "sample_folder_path = os.path.join(extract_path, 'data', 'Apple___scab')\n",
        "print(\"Sample files:\", os.listdir(sample_folder_path))\n"
      ],
      "metadata": {
        "colab": {
          "base_uri": "https://localhost:8080/"
        },
        "id": "2RsYwWQz4dEc",
        "outputId": "54106bd7-5e2b-43c7-9134-e958d0a84fb1"
      },
      "execution_count": 7,
      "outputs": [
        {
          "output_type": "stream",
          "name": "stdout",
          "text": [
            "Sample files: ['42627.jpg', '101804.jpg', '42280.jpg', '102342.jpg', '42438.jpg', '101825.jpg', '42296.jpg', '102211.jpg', '102020.jpg', '42354.jpg', '42347.jpg', '42846.jpg', '42777.jpg', '102171.jpg', '102332.jpg', '102006.jpg', '102315.jpg', '101918.jpg', '42553.jpg', '102148.jpg', '42692.jpg', '102156.jpg', '42419.jpg', '101902.jpg', '42293.jpg', '101927.jpg', '42732.jpg', '42809.jpg', '42668.jpg', '42507.jpg', '42789.jpg', '42680.jpg', '42724.jpg', '42631.jpg', '42349.jpg', '102326.jpg', '42826.jpg', '102295.jpg', '42415.jpg', '42536.jpg', '102180.jpg', '42519.jpg', '101934.jpg', '102081.jpg', '101974.jpg', '102113.jpg', '102021.jpg', '101781.jpg', '102219.jpg', '102323.jpg', '101916.jpg', '102290.jpg', '102256.jpg', '42784.jpg', '42336.jpg', '102149.jpg', '42792.jpg', '42843.jpg', '102270.jpg', '42465.jpg', '101857.jpg', '102063.jpg', '42276.jpg', '42408.jpg', '42703.jpg', '102010.jpg', '102335.jpg', '42300.jpg', '42847.jpg', '42819.jpg', '42649.jpg', '101965.jpg', '102273.jpg', '42608.jpg', '42607.jpg', '42864.jpg', '42358.jpg', '42463.jpg', '102254.jpg', '102032.jpg', '42469.jpg', '42795.jpg', '42593.jpg', '102329.jpg', '42685.jpg', '42475.jpg', '42401.jpg', '102002.jpg', '42321.jpg', '42330.jpg', '102068.jpg', '102338.jpg', '42664.jpg', '102129.jpg', '42337.jpg', '101870.jpg', '101989.jpg', '42366.jpg', '102160.jpg', '101850.jpg', '101819.jpg', '102161.jpg', '42503.jpg', '42842.jpg', '42515.jpg', '101912.jpg', '102262.jpg', '42773.jpg', '102299.jpg', '42549.jpg', '101935.jpg', '42835.jpg', '101970.jpg', '42271.jpg', '42632.jpg', '101972.jpg', '102183.jpg', '42242.jpg', '102038.jpg', '102233.jpg', '42821.jpg', '102116.jpg', '102037.jpg', '42715.jpg', '101844.jpg', '101969.jpg', '102039.jpg', '42742.jpg', '42432.jpg', '42569.jpg', '42259.jpg', '42758.jpg', '42299.jpg', '42273.jpg', '101907.jpg', '42725.jpg', '42674.jpg', '101864.jpg', '42406.jpg', '101895.jpg', '101776.jpg', '102311.jpg', '102179.jpg', '42679.jpg', '101839.jpg', '42705.jpg', '42405.jpg', '42740.jpg', '42482.jpg', '42840.jpg', '42339.jpg', '102278.jpg', '42610.jpg', '42655.jpg', '42771.jpg', '42304.jpg', '102308.jpg', '102226.jpg', '102031.jpg', '101785.jpg', '101824.jpg', '101898.jpg', '42460.jpg', '42818.jpg', '42523.jpg', '42729.jpg', '102004.jpg', '42796.jpg', '42745.jpg', '42767.jpg', '42550.jpg', '102025.jpg', '102248.jpg', '42313.jpg', '102177.jpg', '42264.jpg', '42651.jpg', '42757.jpg', '42480.jpg', '42704.jpg', '42586.jpg', '102097.jpg', '42281.jpg', '42543.jpg', '42808.jpg', '42396.jpg', '42302.jpg', '101967.jpg', '102046.jpg', '102044.jpg', '42529.jpg', '42868.jpg', '101803.jpg', '102281.jpg', '42533.jpg', '42561.jpg', '42471.jpg', '42756.jpg', '102085.jpg', '42412.jpg', '42861.jpg', '42410.jpg', '42802.jpg', '101780.jpg', '101851.jpg', '42825.jpg', '42598.jpg', '101768.jpg', '42497.jpg', '42822.jpg', '42455.jpg', '42616.jpg', '42256.jpg', '102064.jpg', '42681.jpg', '42327.jpg', '101766.jpg', '102191.jpg', '101886.jpg', '102144.jpg', '42793.jpg', '101947.jpg', '42699.jpg', '42653.jpg', '102196.jpg', '102231.jpg', '102237.jpg', '101794.jpg', '42510.jpg', '42748.jpg', '42479.jpg', '42420.jpg', '102153.jpg', '42698.jpg', '42443.jpg', '42301.jpg', '101871.jpg', '42562.jpg', '102188.jpg', '42695.jpg', '42713.jpg', '42638.jpg', '101971.jpg', '102141.jpg', '42343.jpg', '42316.jpg', '42452.jpg', '42486.jpg', '42403.jpg', '42411.jpg', '42566.jpg', '102090.jpg', '42331.jpg', '102252.jpg', '42626.jpg', '101987.jpg', '42421.jpg', '42650.jpg', '42810.jpg', '42360.jpg', '101973.jpg', '102283.jpg', '101960.jpg', '42328.jpg', '102304.jpg', '42841.jpg', '42542.jpg', '42427.jpg', '102024.jpg', '102151.jpg', '42750.jpg', '42622.jpg', '42381.jpg', '101984.jpg', '101883.jpg', '42467.jpg', '42305.jpg', '102125.jpg', '42709.jpg', '101754.jpg', '42386.jpg', '102105.jpg', '42558.jpg', '102217.jpg', '42310.jpg', '101946.jpg', '102074.jpg', '101997.jpg', '42493.jpg', '102076.jpg', '101877.jpg', '102215.jpg', '42660.jpg', '102199.jpg', '101982.jpg', '42528.jpg', '42429.jpg', '101904.jpg', '42646.jpg', '42303.jpg', '101922.jpg', '102300.jpg', '42490.jpg', '42275.jpg', '101790.jpg', '42535.jpg', '102193.jpg', '42859.jpg', '102206.jpg', '42449.jpg', '102245.jpg', '42554.jpg', '102306.jpg', '42657.jpg', '102321.jpg', '102184.jpg', '101938.jpg', '42743.jpg', '42504.jpg', '42691.jpg', '42811.jpg', '42361.jpg', '101833.jpg', '102185.jpg', '101805.jpg', '101951.jpg', '42473.jpg', '102050.jpg', '42538.jpg', '42669.jpg', '42688.jpg', '102094.jpg', '102023.jpg', '42530.jpg', '101878.jpg', '102016.jpg', '42852.jpg', '102092.jpg', '42546.jpg', '42402.jpg', '42831.jpg', '42597.jpg', '102260.jpg', '42666.jpg', '102147.jpg', '42522.jpg', '42518.jpg', '101953.jpg', '42484.jpg', '101994.jpg', '42763.jpg', '42765.jpg', '102078.jpg', '102088.jpg', '101820.jpg', '102163.jpg', '42702.jpg', '42857.jpg', '42247.jpg', '102210.jpg', '42728.jpg', '102047.jpg', '42580.jpg', '102287.jpg', '102205.jpg', '101828.jpg', '42609.jpg', '42251.jpg', '42716.jpg', '42537.jpg', '101809.jpg', '42424.jpg', '102319.jpg', '101838.jpg', '101858.jpg', '42752.jpg', '102236.jpg', '42458.jpg', '101885.jpg', '42572.jpg', '42501.jpg', '42485.jpg', '101884.jpg', '42851.jpg', '42371.jpg', '42636.jpg', '102080.jpg', '42815.jpg', '42762.jpg', '102133.jpg', '42590.jpg', '42317.jpg', '42751.jpg', '42461.jpg', '101801.jpg', '102019.jpg', '42647.jpg', '42445.jpg', '102282.jpg', '102126.jpg', '42320.jpg', '102005.jpg', '102243.jpg', '101875.jpg', '42662.jpg', '42730.jpg', '42754.jpg', '102232.jpg', '42797.jpg', '42741.jpg', '101894.jpg', '102091.jpg', '42576.jpg', '101905.jpg', '42833.jpg', '42735.jpg', '42525.jpg', '102042.jpg', '101830.jpg', '101764.jpg', '42520.jpg', '42746.jpg', '102018.jpg', '42726.jpg', '102166.jpg', '101887.jpg', '101810.jpg', '42404.jpg', '101888.jpg', '42483.jpg', '102272.jpg', '101792.jpg', '42718.jpg', '42292.jpg', '102271.jpg', '102324.jpg', '42629.jpg', '42315.jpg', '42866.jpg', '42253.jpg', '42701.jpg', '102164.jpg', '102170.jpg', '102137.jpg', '102286.jpg', '102334.jpg', '42340.jpg', '42648.jpg', '42798.jpg', '42552.jpg', '42521.jpg', '102310.jpg', '42488.jpg', '101796.jpg', '42583.jpg', '42261.jpg', '42352.jpg', '42512.jpg', '42505.jpg', '42557.jpg', '42407.jpg', '42295.jpg', '42323.jpg', '102051.jpg', '102242.jpg', '101980.jpg', '102003.jpg', '42355.jpg', '101767.jpg', '102175.jpg', '42776.jpg', '42606.jpg', '101783.jpg', '42499.jpg', '102172.jpg', '102228.jpg', '101791.jpg', '102098.jpg', '42379.jpg', '42689.jpg', '101937.jpg', '102221.jpg', '42856.jpg', '42645.jpg', '101841.jpg', '42448.jpg', '42665.jpg', '102157.jpg', '42600.jpg', '101963.jpg', '42603.jpg', '102122.jpg', '42686.jpg', '102223.jpg', '42641.jpg', '101867.jpg', '102266.jpg', '42511.jpg', '42319.jpg', '102194.jpg', '101756.jpg', '42434.jpg', '42578.jpg', '102204.jpg', '42672.jpg', '42850.jpg', '102007.jpg', '42435.jpg', '102190.jpg', '102135.jpg', '101821.jpg', '102109.jpg', '42244.jpg', '42652.jpg', '42457.jpg', '101900.jpg', '102292.jpg', '42440.jpg', '42620.jpg', '42867.jpg', '42326.jpg', '42344.jpg', '42820.jpg', '42418.jpg', '102089.jpg', '42502.jpg', '42524.jpg', '102297.jpg', '42332.jpg', '42286.jpg', '101808.jpg', '101788.jpg', '42267.jpg', '42778.jpg', '42297.jpg', '101899.jpg', '102176.jpg', '102289.jpg', '42248.jpg', '42527.jpg', '42805.jpg', '42723.jpg', '42737.jpg', '102011.jpg', '42441.jpg', '42764.jpg', '101800.jpg', '102249.jpg', '42243.jpg', '102187.jpg', '42481.jpg', '102220.jpg', '42770.jpg', '42602.jpg', '102265.jpg', '102234.jpg', '102114.jpg', '102225.jpg', '42619.jpg', '101840.jpg', '42487.jpg', '42556.jpg', '42346.jpg', '102065.jpg', '42399.jpg', '101890.jpg', '42447.jpg', '42395.jpg', '42345.jpg', '101913.jpg', '101784.jpg', '42582.jpg', '101959.jpg', '102182.jpg', '102155.jpg', '101879.jpg', '42588.jpg', '102099.jpg', '42812.jpg', '101852.jpg', '42834.jpg', '101836.jpg', '102212.jpg', '42575.jpg', '101940.jpg', '102136.jpg', '102186.jpg', '42241.jpg', '102251.jpg', '42753.jpg', '102240.jpg', '42383.jpg', '42596.jpg', '101827.jpg', '101976.jpg', '42749.jpg', '101847.jpg', '42547.jpg', '42594.jpg', '102168.jpg', '102268.jpg', '102189.jpg', '42356.jpg', '42464.jpg', '42848.jpg', '101949.jpg', '102181.jpg', '42827.jpg', '102123.jpg', '101817.jpg', '42734.jpg', '101814.jpg', '42433.jpg', '102293.jpg', '102106.jpg', '42414.jpg', '101777.jpg', '101786.jpg', '42844.jpg', '42270.jpg', '42324.jpg', '42614.jpg', '101863.jpg', '102130.jpg', '101835.jpg', '101757.jpg', '42790.jpg', '101924.jpg', '102241.jpg', '42289.jpg', '101760.jpg', '102140.jpg', '42540.jpg', '102167.jpg', '42239.jpg', '42444.jpg', '42828.jpg', '102258.jpg', '42389.jpg', '102061.jpg', '42258.jpg', '102142.jpg', '102127.jpg', '102111.jpg', '101985.jpg', '42555.jpg', '42849.jpg', '42500.jpg', '102112.jpg', '42744.jpg', '42353.jpg', '101826.jpg', '101765.jpg', '102045.jpg', '102013.jpg', '42587.jpg', '102314.jpg', '102070.jpg', '101964.jpg', '101798.jpg', '101999.jpg', '102235.jpg', '101981.jpg', '42341.jpg', '42567.jpg', '42570.jpg', '42442.jpg', '42365.jpg', '42539.jpg', '42615.jpg', '102330.jpg', '101873.jpg', '42325.jpg', '42265.jpg', '102317.jpg', '42693.jpg', '42860.jpg', '101988.jpg', '102152.jpg', '42639.jpg', '42612.jpg', '42624.jpg', '42329.jpg', '42710.jpg', '102009.jpg', '101954.jpg', '42431.jpg', '42863.jpg', '102029.jpg', '102012.jpg', '101758.jpg', '102027.jpg', '102269.jpg', '42803.jpg', '102055.jpg', '102134.jpg', '42263.jpg', '101762.jpg', '101761.jpg', '42283.jpg', '102174.jpg', '42284.jpg', '101931.jpg', '102320.jpg', '42601.jpg', '102327.jpg', '42800.jpg', '42294.jpg', '42584.jpg', '102279.jpg', '102197.jpg', '102343.jpg', '101816.jpg', '42350.jpg', '102267.jpg', '101769.jpg', '42362.jpg', '42416.jpg', '42761.jpg', '42568.jpg', '102201.jpg', '42799.jpg', '101948.jpg', '101926.jpg', '42388.jpg', '101759.jpg', '102154.jpg', '42451.jpg', '42739.jpg', '102318.jpg', '102030.jpg', '42564.jpg', '42560.jpg', '102058.jpg', '42307.jpg', '101932.jpg', '101866.jpg', '42357.jpg', '102100.jpg', '42697.jpg', '102178.jpg', '102159.jpg', '101986.jpg', '101915.jpg', '42813.jpg', '102277.jpg', '101961.jpg', '102208.jpg', '42845.jpg', '101925.jpg', '101991.jpg', '42801.jpg', '42786.jpg', '42862.jpg', '42308.jpg', '101897.jpg', '101813.jpg', '42246.jpg', '42548.jpg', '42526.jpg', '42516.jpg', '42637.jpg', '102322.jpg', '42565.jpg', '42285.jpg', '42581.jpg', '102227.jpg', '102052.jpg', '42453.jpg', '102218.jpg', '42459.jpg', '42370.jpg', '42342.jpg', '42509.jpg', '42312.jpg', '42314.jpg', '102132.jpg', '102117.jpg', '42839.jpg', '102095.jpg', '42373.jpg', '101909.jpg', '42643.jpg', '102239.jpg', '42823.jpg', '102263.jpg', '102209.jpg', '102056.jpg', '102115.jpg', '102062.jpg', '101775.jpg', '42613.jpg', '42398.jpg', '101917.jpg', '101880.jpg', '42640.jpg', '102026.jpg', '102303.jpg', '42374.jpg', '101849.jpg', '42684.jpg', '101958.jpg', '102244.jpg', '101789.jpg', '42559.jpg', '101872.jpg', '101942.jpg', '101856.jpg', '102169.jpg', '102069.jpg', '102165.jpg', '102087.jpg', '102071.jpg', '101854.jpg', '102162.jpg', '101893.jpg', '42700.jpg', '101979.jpg', '101861.jpg', '102331.jpg', '42865.jpg', '102173.jpg', '42279.jpg', '101834.jpg', '42378.jpg', '102146.jpg', '102224.jpg', '42390.jpg', '42630.jpg', '101891.jpg', '102082.jpg', '42585.jpg', '102312.jpg', '102202.jpg', '102192.jpg', '102043.jpg', '42563.jpg', '42413.jpg', '42446.jpg', '102040.jpg', '102313.jpg', '42506.jpg', '42318.jpg', '42659.jpg', '102259.jpg', '101773.jpg', '42397.jpg', '42814.jpg', '101782.jpg', '42363.jpg', '42634.jpg', '101950.jpg', '42738.jpg', '102014.jpg', '102340.jpg', '42375.jpg', '101978.jpg', '101869.jpg', '42654.jpg', '42678.jpg', '42824.jpg', '102118.jpg', '42551.jpg', '101944.jpg', '102255.jpg', '42780.jpg', '42854.jpg', '102072.jpg', '42368.jpg', '42621.jpg', '42574.jpg', '102053.jpg', '102084.jpg', '102086.jpg', '42611.jpg', '102158.jpg', '42731.jpg', '101859.jpg', '102017.jpg', '42392.jpg', '42417.jpg', '102103.jpg', '42311.jpg', '102077.jpg', '102124.jpg', '102104.jpg', '101901.jpg', '102214.jpg', '102345.jpg', '42837.jpg', '102079.jpg', '42670.jpg', '42769.jpg', '102131.jpg', '42592.jpg', '42494.jpg', '101955.jpg', '102247.jpg', '102302.jpg', '101853.jpg', '102022.jpg', '102305.jpg', '101919.jpg', '42333.jpg', '102207.jpg', '102275.jpg', '42334.jpg', '102291.jpg', '102280.jpg', '101952.jpg', '42367.jpg', '102110.jpg', '42579.jpg', '102128.jpg', '102285.jpg', '42772.jpg', '42456.jpg', '101774.jpg', '42359.jpg', '102033.jpg', '42376.jpg', '42573.jpg', '101921.jpg', '42476.jpg', '42309.jpg', '102309.jpg', '42794.jpg', '42534.jpg', '42425.jpg', '42450.jpg', '42708.jpg', '102250.jpg', '102296.jpg', '42517.jpg', '101977.jpg', '42245.jpg', '101842.jpg', '42683.jpg', '42717.jpg', '101881.jpg', '102015.jpg', '42779.jpg', '101868.jpg', '42532.jpg', '42369.jpg', '42282.jpg', '42436.jpg', '42474.jpg', '42288.jpg', '102048.jpg', '102139.jpg', '101923.jpg', '42491.jpg', '101966.jpg', '42377.jpg', '42306.jpg', '102145.jpg', '102284.jpg', '42400.jpg', '42721.jpg', '42617.jpg', '42696.jpg', '102222.jpg', '101956.jpg', '102057.jpg', '42694.jpg', '101771.jpg', '42437.jpg', '102067.jpg', '101770.jpg', '101799.jpg', '102246.jpg', '42393.jpg', '102121.jpg', '101795.jpg', '102060.jpg', '42706.jpg', '42635.jpg', '42707.jpg', '42249.jpg', '42290.jpg', '101933.jpg', '102195.jpg', '102008.jpg', '101998.jpg', '101778.jpg', '42687.jpg', '42322.jpg', '42255.jpg', '42768.jpg', '101992.jpg', '102238.jpg', '42514.jpg', '42722.jpg', '42544.jpg', '102034.jpg', '42489.jpg', '102096.jpg', '42785.jpg', '42644.jpg', '102257.jpg', '42439.jpg', '42545.jpg', '42605.jpg', '42677.jpg', '42661.jpg', '42832.jpg', '101874.jpg', '42468.jpg', '102066.jpg', '42269.jpg', '42430.jpg', '102035.jpg', '42391.jpg', '42335.jpg', '42599.jpg', '42781.jpg', '42625.jpg', '42667.jpg', '101882.jpg', '101928.jpg', '102276.jpg', '101889.jpg', '42788.jpg', '101860.jpg', '101797.jpg', '101811.jpg', '42508.jpg', '42287.jpg', '102301.jpg', '102036.jpg', '42268.jpg', '101995.jpg', '42817.jpg', '42855.jpg', '101823.jpg', '42409.jpg', '42466.jpg', '42577.jpg', '42719.jpg', '42623.jpg', '42618.jpg', '42382.jpg', '42604.jpg', '101943.jpg', '102120.jpg', '102288.jpg', '42380.jpg', '101832.jpg', '42711.jpg', '42775.jpg', '42387.jpg', '42787.jpg', '102049.jpg', '42633.jpg', '102253.jpg', '42858.jpg', '42838.jpg', '42274.jpg', '42513.jpg', '42348.jpg', '101812.jpg', '101755.jpg', '42470.jpg', '42531.jpg', '101818.jpg', '42783.jpg', '102344.jpg', '102138.jpg', '101920.jpg', '102001.jpg', '101822.jpg', '42462.jpg', '42541.jpg', '42673.jpg', '102261.jpg', '42492.jpg', '42478.jpg', '101910.jpg', '102108.jpg', '101930.jpg', '101779.jpg', '101892.jpg', '101896.jpg', '42498.jpg', '102059.jpg', '101815.jpg', '42385.jpg', '42394.jpg', '101846.jpg', '42495.jpg', '101945.jpg', '42682.jpg', '101993.jpg', '101968.jpg', '101914.jpg', '42675.jpg', '42676.jpg', '101763.jpg', '42298.jpg', '101865.jpg', '102341.jpg', '42472.jpg', '42589.jpg', '102328.jpg', '101807.jpg', '101837.jpg', '101911.jpg', '102073.jpg', '102294.jpg', '102107.jpg', '102298.jpg', '42806.jpg', '101843.jpg', '102203.jpg', '42454.jpg', '42853.jpg', '42364.jpg', '101908.jpg', '101939.jpg', '42422.jpg', '102143.jpg', '42628.jpg', '42733.jpg', '101983.jpg', '42830.jpg', '42747.jpg', '102028.jpg', '42260.jpg', '101772.jpg', '42250.jpg', '42759.jpg', '42656.jpg', '101975.jpg', '102093.jpg', '101903.jpg', '102316.jpg', '42807.jpg', '42791.jpg', '101906.jpg', '42257.jpg', '102337.jpg', '102307.jpg', '101845.jpg', '101957.jpg', '102119.jpg', '102102.jpg', '42372.jpg', '102200.jpg', '102213.jpg', '42720.jpg', '101862.jpg', '102000.jpg', '42591.jpg', '42804.jpg', '42671.jpg', '101929.jpg', '42423.jpg', '42252.jpg', '42829.jpg', '102230.jpg', '102101.jpg', '101876.jpg', '42277.jpg', '42782.jpg', '101855.jpg', '42477.jpg', '42712.jpg', '42240.jpg', '102336.jpg', '42642.jpg', '42774.jpg', '101990.jpg', '42262.jpg', '102198.jpg', '101787.jpg', '102333.jpg', '42428.jpg', '101962.jpg', '102041.jpg', '101996.jpg', '101793.jpg', '42727.jpg', '102325.jpg', '42736.jpg', '42351.jpg', '102264.jpg', '42426.jpg', '102075.jpg', '101831.jpg', '42816.jpg', '42836.jpg', '42760.jpg', '42278.jpg', '42595.jpg', '42254.jpg', '102150.jpg', '42663.jpg', '42291.jpg', '102339.jpg', '42384.jpg', '42571.jpg', '42496.jpg', '101936.jpg', '42766.jpg', '101941.jpg', '42755.jpg', '102229.jpg', '42714.jpg', '42272.jpg', '101802.jpg', '42266.jpg', '42658.jpg', '101848.jpg', '101829.jpg', '102083.jpg', '102054.jpg', '101806.jpg', '42338.jpg', '102216.jpg', '102274.jpg', '42690.jpg']\n"
          ]
        }
      ]
    },
    {
      "cell_type": "code",
      "source": [
        "import os\n",
        "import tensorflow as tf\n",
        "from tensorflow.keras.preprocessing.image import ImageDataGenerator\n",
        "from tensorflow.keras.applications import MobileNetV2\n",
        "from tensorflow.keras.models import Model\n",
        "from tensorflow.keras.layers import GlobalAveragePooling2D, Dense, Dropout\n",
        "from tensorflow.keras.callbacks import EarlyStopping\n",
        "\n",
        "# Set the dataset path\n",
        "extract_path = '/content/plant_dataset'\n",
        "image_size = (128, 128)\n",
        "batch_size = 32\n",
        "\n",
        "# Define data generators\n",
        "train_datagen = ImageDataGenerator(\n",
        "    rescale=1./255,\n",
        "    validation_split=0.2\n",
        ")\n",
        "\n",
        "train_generator = train_datagen.flow_from_directory(\n",
        "    directory=os.path.join(extract_path, 'data'),\n",
        "    target_size=image_size,\n",
        "    batch_size=batch_size,\n",
        "    class_mode='categorical',\n",
        "    subset='training'\n",
        ")\n",
        "\n",
        "validation_generator = train_datagen.flow_from_directory(\n",
        "    directory=os.path.join(extract_path, 'data'),\n",
        "    target_size=image_size,\n",
        "    batch_size=batch_size,\n",
        "    class_mode='categorical',\n",
        "    subset='validation'\n",
        ")\n",
        "\n",
        "# Load the MobileNetV2 model (pretrained on ImageNet)\n",
        "base_model = MobileNetV2(input_shape=(128, 128, 3), include_top=False, weights='imagenet')\n",
        "base_model.trainable = False  # Freeze base model\n",
        "\n",
        "# Add custom classification layers\n",
        "x = base_model.output\n",
        "x = GlobalAveragePooling2D()(x)\n",
        "x = Dense(128, activation='relu')(x)\n",
        "x = Dropout(0.3)(x)\n",
        "outputs = Dense(len(train_generator.class_indices), activation='softmax')(x)\n",
        "\n",
        "# Combine into a model\n",
        "model = Model(inputs=base_model.input, outputs=outputs)\n",
        "\n",
        "# Compile the model\n",
        "model.compile(optimizer='adam', loss='categorical_crossentropy', metrics=['accuracy'])\n",
        "\n",
        "# Add early stopping\n",
        "early_stop = EarlyStopping(monitor='val_loss', patience=2, restore_best_weights=True)\n",
        "\n",
        "# Train the model\n",
        "model.fit(\n",
        "    train_generator,\n",
        "    epochs=5,  # You can increase this after testing\n",
        "    validation_data=validation_generator,\n",
        "    callbacks=[early_stop]\n",
        ")\n"
      ],
      "metadata": {
        "colab": {
          "base_uri": "https://localhost:8080/"
        },
        "id": "RalqAfyKvAen",
        "outputId": "3ccd6288-41d5-4c66-a70d-28c46741ba83"
      },
      "execution_count": 8,
      "outputs": [
        {
          "output_type": "stream",
          "name": "stdout",
          "text": [
            "Found 92942 images belonging to 72 classes.\n",
            "Found 23205 images belonging to 72 classes.\n",
            "Downloading data from https://storage.googleapis.com/tensorflow/keras-applications/mobilenet_v2/mobilenet_v2_weights_tf_dim_ordering_tf_kernels_1.0_128_no_top.h5\n",
            "\u001b[1m9406464/9406464\u001b[0m \u001b[32m━━━━━━━━━━━━━━━━━━━━\u001b[0m\u001b[37m\u001b[0m \u001b[1m0s\u001b[0m 0us/step\n"
          ]
        },
        {
          "output_type": "stream",
          "name": "stderr",
          "text": [
            "/usr/local/lib/python3.11/dist-packages/keras/src/trainers/data_adapters/py_dataset_adapter.py:121: UserWarning: Your `PyDataset` class should call `super().__init__(**kwargs)` in its constructor. `**kwargs` can include `workers`, `use_multiprocessing`, `max_queue_size`. Do not pass these arguments to `fit()`, as they will be ignored.\n",
            "  self._warn_if_super_not_called()\n"
          ]
        },
        {
          "output_type": "stream",
          "name": "stdout",
          "text": [
            "Epoch 1/5\n",
            "\u001b[1m2905/2905\u001b[0m \u001b[32m━━━━━━━━━━━━━━━━━━━━\u001b[0m\u001b[37m\u001b[0m \u001b[1m1411s\u001b[0m 483ms/step - accuracy: 0.6868 - loss: 1.1519 - val_accuracy: 0.8372 - val_loss: 0.4851\n",
            "Epoch 2/5\n",
            "\u001b[1m2905/2905\u001b[0m \u001b[32m━━━━━━━━━━━━━━━━━━━━\u001b[0m\u001b[37m\u001b[0m \u001b[1m1409s\u001b[0m 485ms/step - accuracy: 0.8422 - loss: 0.4592 - val_accuracy: 0.8468 - val_loss: 0.4763\n",
            "Epoch 3/5\n",
            "\u001b[1m2905/2905\u001b[0m \u001b[32m━━━━━━━━━━━━━━━━━━━━\u001b[0m\u001b[37m\u001b[0m \u001b[1m1446s\u001b[0m 498ms/step - accuracy: 0.8589 - loss: 0.4038 - val_accuracy: 0.8539 - val_loss: 0.4588\n",
            "Epoch 4/5\n",
            "\u001b[1m2905/2905\u001b[0m \u001b[32m━━━━━━━━━━━━━━━━━━━━\u001b[0m\u001b[37m\u001b[0m \u001b[1m1453s\u001b[0m 500ms/step - accuracy: 0.8721 - loss: 0.3622 - val_accuracy: 0.8621 - val_loss: 0.4569\n",
            "Epoch 5/5\n",
            "\u001b[1m2905/2905\u001b[0m \u001b[32m━━━━━━━━━━━━━━━━━━━━\u001b[0m\u001b[37m\u001b[0m \u001b[1m1430s\u001b[0m 492ms/step - accuracy: 0.8784 - loss: 0.3439 - val_accuracy: 0.8614 - val_loss: 0.4767\n"
          ]
        },
        {
          "output_type": "execute_result",
          "data": {
            "text/plain": [
              "<keras.src.callbacks.history.History at 0x7e7e1805a990>"
            ]
          },
          "metadata": {},
          "execution_count": 8
        }
      ]
    },
    {
      "cell_type": "code",
      "source": [
        "# Save entire model in HDF5 format\n",
        "model.save('plant_disease_model.h5')\n",
        "print(\"Model saved as plant_disease_model.h5\")\n"
      ],
      "metadata": {
        "colab": {
          "base_uri": "https://localhost:8080/"
        },
        "id": "_-HGaksNvDnB",
        "outputId": "d323d69b-f815-46dc-835e-b1e92f9990fa"
      },
      "execution_count": 9,
      "outputs": [
        {
          "output_type": "stream",
          "name": "stderr",
          "text": [
            "WARNING:absl:You are saving your model as an HDF5 file via `model.save()` or `keras.saving.save_model(model)`. This file format is considered legacy. We recommend using instead the native Keras format, e.g. `model.save('my_model.keras')` or `keras.saving.save_model(model, 'my_model.keras')`. \n"
          ]
        },
        {
          "output_type": "stream",
          "name": "stdout",
          "text": [
            "Model saved as plant_disease_model.h5\n"
          ]
        }
      ]
    },
    {
      "cell_type": "code",
      "source": [
        "from google.colab import files\n",
        "files.download('/content/plant_disease_model.h5')\n"
      ],
      "metadata": {
        "colab": {
          "base_uri": "https://localhost:8080/",
          "height": 17
        },
        "id": "1RihEwh3XyG4",
        "outputId": "d1c420fa-8f98-4fd4-e6ff-d5f86394b89c"
      },
      "execution_count": 10,
      "outputs": [
        {
          "output_type": "display_data",
          "data": {
            "text/plain": [
              "<IPython.core.display.Javascript object>"
            ],
            "application/javascript": [
              "\n",
              "    async function download(id, filename, size) {\n",
              "      if (!google.colab.kernel.accessAllowed) {\n",
              "        return;\n",
              "      }\n",
              "      const div = document.createElement('div');\n",
              "      const label = document.createElement('label');\n",
              "      label.textContent = `Downloading \"${filename}\": `;\n",
              "      div.appendChild(label);\n",
              "      const progress = document.createElement('progress');\n",
              "      progress.max = size;\n",
              "      div.appendChild(progress);\n",
              "      document.body.appendChild(div);\n",
              "\n",
              "      const buffers = [];\n",
              "      let downloaded = 0;\n",
              "\n",
              "      const channel = await google.colab.kernel.comms.open(id);\n",
              "      // Send a message to notify the kernel that we're ready.\n",
              "      channel.send({})\n",
              "\n",
              "      for await (const message of channel.messages) {\n",
              "        // Send a message to notify the kernel that we're ready.\n",
              "        channel.send({})\n",
              "        if (message.buffers) {\n",
              "          for (const buffer of message.buffers) {\n",
              "            buffers.push(buffer);\n",
              "            downloaded += buffer.byteLength;\n",
              "            progress.value = downloaded;\n",
              "          }\n",
              "        }\n",
              "      }\n",
              "      const blob = new Blob(buffers, {type: 'application/binary'});\n",
              "      const a = document.createElement('a');\n",
              "      a.href = window.URL.createObjectURL(blob);\n",
              "      a.download = filename;\n",
              "      div.appendChild(a);\n",
              "      a.click();\n",
              "      div.remove();\n",
              "    }\n",
              "  "
            ]
          },
          "metadata": {}
        },
        {
          "output_type": "display_data",
          "data": {
            "text/plain": [
              "<IPython.core.display.Javascript object>"
            ],
            "application/javascript": [
              "download(\"download_5da9b0c7-ab56-40f3-abbd-8cb44feaee63\", \"plant_disease_model.h5\", 11650992)"
            ]
          },
          "metadata": {}
        }
      ]
    },
    {
      "cell_type": "code",
      "source": [
        "history = model.fit(\n",
        "    train_generator,\n",
        "    epochs=3,\n",
        "    validation_data=validation_generator,\n",
        "    steps_per_epoch=100,\n",
        "    validation_steps=20,\n",
        "    callbacks=[early_stop]\n",
        ")\n"
      ],
      "metadata": {
        "colab": {
          "base_uri": "https://localhost:8080/"
        },
        "id": "ZaCTOBmxEHv2",
        "outputId": "efbaf4e0-52e3-4a4e-c64c-d72aeffaae8b"
      },
      "execution_count": 12,
      "outputs": [
        {
          "output_type": "stream",
          "name": "stdout",
          "text": [
            "Epoch 1/3\n",
            "\u001b[1m100/100\u001b[0m \u001b[32m━━━━━━━━━━━━━━━━━━━━\u001b[0m\u001b[37m\u001b[0m \u001b[1m47s\u001b[0m 461ms/step - accuracy: 0.8772 - loss: 0.3237 - val_accuracy: 0.8516 - val_loss: 0.4863\n",
            "Epoch 2/3\n",
            "\u001b[1m100/100\u001b[0m \u001b[32m━━━━━━━━━━━━━━━━━━━━\u001b[0m\u001b[37m\u001b[0m \u001b[1m82s\u001b[0m 823ms/step - accuracy: 0.8812 - loss: 0.3261 - val_accuracy: 0.8344 - val_loss: 0.5497\n",
            "Epoch 3/3\n",
            "\u001b[1m100/100\u001b[0m \u001b[32m━━━━━━━━━━━━━━━━━━━━\u001b[0m\u001b[37m\u001b[0m \u001b[1m82s\u001b[0m 825ms/step - accuracy: 0.8867 - loss: 0.3366 - val_accuracy: 0.8500 - val_loss: 0.5227\n"
          ]
        }
      ]
    },
    {
      "cell_type": "code",
      "source": [
        "import matplotlib.pyplot as plt\n",
        "\n",
        "# Accuracy\n",
        "plt.plot(history.history['accuracy'], label='Train Accuracy')\n",
        "plt.plot(history.history['val_accuracy'], label='Val Accuracy')\n",
        "plt.title('Model Accuracy')\n",
        "plt.xlabel('Epoch')\n",
        "plt.ylabel('Accuracy')\n",
        "plt.legend()\n",
        "plt.show()\n",
        "\n",
        "# Loss\n",
        "plt.plot(history.history['loss'], label='Train Loss')\n",
        "plt.plot(history.history['val_loss'], label='Val Loss')\n",
        "plt.title('Model Loss')\n",
        "plt.xlabel('Epoch')\n",
        "plt.ylabel('Loss')\n",
        "plt.legend()\n",
        "plt.show()\n"
      ],
      "metadata": {
        "colab": {
          "base_uri": "https://localhost:8080/",
          "height": 927
        },
        "id": "euCc5vB8KkiS",
        "outputId": "99790e18-e99d-4376-fb67-b8ab32961d7e"
      },
      "execution_count": 13,
      "outputs": [
        {
          "output_type": "display_data",
          "data": {
            "text/plain": [
              "<Figure size 640x480 with 1 Axes>"
            ],
            "image/png": "[encoded data removed]"
          },
          "metadata": {}
        },
        {
          "output_type": "display_data",
          "data": {
            "text/plain": [
              "<Figure size 640x480 with 1 Axes>"
            ],
            "image/png": "[encoded data removed]"
          },
          "metadata": {}
        }
      ]
    },
    {
      "cell_type": "code",
      "source": [
        "import os\n",
        "\n",
        "folder_path = '/content/plant_dataset/data/Tomato___healthy'\n",
        "print(\"Files:\", os.listdir(folder_path)[:5])  # print first 5 file names\n"
      ],
      "metadata": {
        "colab": {
          "base_uri": "https://localhost:8080/"
        },
        "id": "bELA3fsCM607",
        "outputId": "411609ee-dbbb-417a-914f-0e55c40d23b0"
      },
      "execution_count": 14,
      "outputs": [
        {
          "output_type": "stream",
          "name": "stdout",
          "text": [
            "Files: ['96258.jpg', '95345.jpg', '95706.jpg', '95150.jpg', '95534.jpg']\n"
          ]
        }
      ]
    },
    {
      "cell_type": "code",
      "source": [
        "from tensorflow.keras.preprocessing import image\n",
        "import numpy as np\n",
        "\n",
        "# Use a valid image from the folder\n",
        "img_path = '/content/plant_dataset/data/Tomato___healthy/96258.jpg'\n",
        "\n",
        "# Load and preprocess the image\n",
        "img = image.load_img(img_path, target_size=(128, 128))\n",
        "img_array = image.img_to_array(img) / 255.0\n",
        "img_array = np.expand_dims(img_array, axis=0)\n",
        "\n",
        "# Predict using the trained model\n",
        "prediction = model.predict(img_array)\n",
        "predicted_class = np.argmax(prediction)\n",
        "\n",
        "# Get class name\n",
        "class_names = list(train_generator.class_indices.keys())\n",
        "print(\"Predicted class:\", class_names[predicted_class])\n"
      ],
      "metadata": {
        "id": "BJluidJ5NLow",
        "colab": {
          "base_uri": "https://localhost:8080/"
        },
        "outputId": "5c75fb2f-7153-4d19-e275-ffc6a459e05c"
      },
      "execution_count": 15,
      "outputs": [
        {
          "output_type": "stream",
          "name": "stdout",
          "text": [
            "\u001b[1m1/1\u001b[0m \u001b[32m━━━━━━━━━━━━━━━━━━━━\u001b[0m\u001b[37m\u001b[0m \u001b[1m2s\u001b[0m 2s/step\n",
            "Predicted class: Tomato___healthy\n"
          ]
        }
      ]
    },
    {
      "cell_type": "code",
      "source": [
        "!pip install streamlit\n"
      ],
      "metadata": {
        "colab": {
          "base_uri": "https://localhost:8080/"
        },
        "id": "N95JlkVDN3ho",
        "outputId": "e8e43216-2ba2-48ee-8aad-a9485e2bf89f"
      },
      "execution_count": 16,
      "outputs": [
        {
          "output_type": "stream",
          "name": "stdout",
          "text": [
            "Collecting streamlit\n",
            "  Downloading streamlit-1.45.1-py3-none-any.whl.metadata (8.9 kB)\n",
            "Requirement already satisfied: altair<6,>=4.0 in /usr/local/lib/python3.11/dist-packages (from streamlit) (5.5.0)\n",
            "Requirement already satisfied: blinker<2,>=1.5.0 in /usr/local/lib/python3.11/dist-packages (from streamlit) (1.9.0)\n",
            "Requirement already satisfied: cachetools<6,>=4.0 in /usr/local/lib/python3.11/dist-packages (from streamlit) (5.5.2)\n",
            "Requirement already satisfied: click<9,>=7.0 in /usr/local/lib/python3.11/dist-packages (from streamlit) (8.1.8)\n",
            "Requirement already satisfied: numpy<3,>=1.23 in /usr/local/lib/python3.11/dist-packages (from streamlit) (2.0.2)\n",
            "Requirement already satisfied: packaging<25,>=20 in /usr/local/lib/python3.11/dist-packages (from streamlit) (24.2)\n",
            "Requirement already satisfied: pandas<3,>=1.4.0 in /usr/local/lib/python3.11/dist-packages (from streamlit) (2.2.2)\n",
            "Requirement already satisfied: pillow<12,>=7.1.0 in /usr/local/lib/python3.11/dist-packages (from streamlit) (11.2.1)\n",
            "Requirement already satisfied: protobuf<7,>=3.20 in /usr/local/lib/python3.11/dist-packages (from streamlit) (5.29.4)\n",
            "Requirement already satisfied: pyarrow>=7.0 in /usr/local/lib/python3.11/dist-packages (from streamlit) (18.1.0)\n",
            "Requirement already satisfied: requests<3,>=2.27 in /usr/local/lib/python3.11/dist-packages (from streamlit) (2.32.3)\n",
            "Requirement already satisfied: tenacity<10,>=8.1.0 in /usr/local/lib/python3.11/dist-packages (from streamlit) (9.1.2)\n",
            "Requirement already satisfied: toml<2,>=0.10.1 in /usr/local/lib/python3.11/dist-packages (from streamlit) (0.10.2)\n",
            "Requirement already satisfied: typing-extensions<5,>=4.4.0 in /usr/local/lib/python3.11/dist-packages (from streamlit) (4.13.2)\n",
            "Collecting watchdog<7,>=2.1.5 (from streamlit)\n",
            "  Downloading watchdog-6.0.0-py3-none-manylinux2014_x86_64.whl.metadata (44 kB)\n",
            "\u001b[2K     \u001b[90m━━━━━━━━━━━━━━━━━━━━━━━━━━━━━━━━━━━━━━━━\u001b[0m \u001b[32m44.3/44.3 kB\u001b[0m \u001b[31m2.2 MB/s\u001b[0m eta \u001b[36m0:00:00\u001b[0m\n",
            "\u001b[?25hRequirement already satisfied: gitpython!=3.1.19,<4,>=3.0.7 in /usr/local/lib/python3.11/dist-packages (from streamlit) (3.1.44)\n",
            "Collecting pydeck<1,>=0.8.0b4 (from streamlit)\n",
            "  Downloading pydeck-0.9.1-py2.py3-none-any.whl.metadata (4.1 kB)\n",
            "Requirement already satisfied: tornado<7,>=6.0.3 in /usr/local/lib/python3.11/dist-packages (from streamlit) (6.4.2)\n",
            "Requirement already satisfied: jinja2 in /usr/local/lib/python3.11/dist-packages (from altair<6,>=4.0->streamlit) (3.1.6)\n",
            "Requirement already satisfied: jsonschema>=3.0 in /usr/local/lib/python3.11/dist-packages (from altair<6,>=4.0->streamlit) (4.23.0)\n",
            "Requirement already satisfied: narwhals>=1.14.2 in /usr/local/lib/python3.11/dist-packages (from altair<6,>=4.0->streamlit) (1.38.0)\n",
            "Requirement already satisfied: gitdb<5,>=4.0.1 in /usr/local/lib/python3.11/dist-packages (from gitpython!=3.1.19,<4,>=3.0.7->streamlit) (4.0.12)\n",
            "Requirement already satisfied: python-dateutil>=2.8.2 in /usr/local/lib/python3.11/dist-packages (from pandas<3,>=1.4.0->streamlit) (2.9.0.post0)\n",
            "Requirement already satisfied: pytz>=2020.1 in /usr/local/lib/python3.11/dist-packages (from pandas<3,>=1.4.0->streamlit) (2025.2)\n",
            "Requirement already satisfied: tzdata>=2022.7 in /usr/local/lib/python3.11/dist-packages (from pandas<3,>=1.4.0->streamlit) (2025.2)\n",
            "Requirement already satisfied: charset-normalizer<4,>=2 in /usr/local/lib/python3.11/dist-packages (from requests<3,>=2.27->streamlit) (3.4.2)\n",
            "Requirement already satisfied: idna<4,>=2.5 in /usr/local/lib/python3.11/dist-packages (from requests<3,>=2.27->streamlit) (3.10)\n",
            "Requirement already satisfied: urllib3<3,>=1.21.1 in /usr/local/lib/python3.11/dist-packages (from requests<3,>=2.27->streamlit) (2.4.0)\n",
            "Requirement already satisfied: certifi>=2017.4.17 in /usr/local/lib/python3.11/dist-packages (from requests<3,>=2.27->streamlit) (2025.4.26)\n",
            "Requirement already satisfied: smmap<6,>=3.0.1 in /usr/local/lib/python3.11/dist-packages (from gitdb<5,>=4.0.1->gitpython!=3.1.19,<4,>=3.0.7->streamlit) (5.0.2)\n",
            "Requirement already satisfied: MarkupSafe>=2.0 in /usr/local/lib/python3.11/dist-packages (from jinja2->altair<6,>=4.0->streamlit) (3.0.2)\n",
            "Requirement already satisfied: attrs>=22.2.0 in /usr/local/lib/python3.11/dist-packages (from jsonschema>=3.0->altair<6,>=4.0->streamlit) (25.3.0)\n",
            "Requirement already satisfied: jsonschema-specifications>=2023.03.6 in /usr/local/lib/python3.11/dist-packages (from jsonschema>=3.0->altair<6,>=4.0->streamlit) (2025.4.1)\n",
            "Requirement already satisfied: referencing>=0.28.4 in /usr/local/lib/python3.11/dist-packages (from jsonschema>=3.0->altair<6,>=4.0->streamlit) (0.36.2)\n",
            "Requirement already satisfied: rpds-py>=0.7.1 in /usr/local/lib/python3.11/dist-packages (from jsonschema>=3.0->altair<6,>=4.0->streamlit) (0.24.0)\n",
            "Requirement already satisfied: six>=1.5 in /usr/local/lib/python3.11/dist-packages (from python-dateutil>=2.8.2->pandas<3,>=1.4.0->streamlit) (1.17.0)\n",
            "Downloading streamlit-1.45.1-py3-none-any.whl (9.9 MB)\n",
            "\u001b[2K   \u001b[90m━━━━━━━━━━━━━━━━━━━━━━━━━━━━━━━━━━━━━━━━\u001b[0m \u001b[32m9.9/9.9 MB\u001b[0m \u001b[31m46.8 MB/s\u001b[0m eta \u001b[36m0:00:00\u001b[0m\n",
            "\u001b[?25hDownloading pydeck-0.9.1-py2.py3-none-any.whl (6.9 MB)\n",
            "\u001b[2K   \u001b[90m━━━━━━━━━━━━━━━━━━━━━━━━━━━━━━━━━━━━━━━━\u001b[0m \u001b[32m6.9/6.9 MB\u001b[0m \u001b[31m89.0 MB/s\u001b[0m eta \u001b[36m0:00:00\u001b[0m\n",
            "\u001b[?25hDownloading watchdog-6.0.0-py3-none-manylinux2014_x86_64.whl (79 kB)\n",
            "\u001b[2K   \u001b[90m━━━━━━━━━━━━━━━━━━━━━━━━━━━━━━━━━━━━━━━━\u001b[0m \u001b[32m79.1/79.1 kB\u001b[0m \u001b[31m5.8 MB/s\u001b[0m eta \u001b[36m0:00:00\u001b[0m\n",
            "\u001b[?25hInstalling collected packages: watchdog, pydeck, streamlit\n",
            "Successfully installed pydeck-0.9.1 streamlit-1.45.1 watchdog-6.0.0\n"
          ]
        }
      ]
    },
    {
      "cell_type": "code",
      "source": [
        "import os\n",
        "from tensorflow.keras.models import load_model\n",
        "from tensorflow.keras.preprocessing import image\n",
        "import streamlit as st\n",
        "import numpy as np\n",
        "\n",
        "# Load the trained model\n",
        "model = load_model('plant_disease_model.h5')\n",
        "\n",
        "# Define a function for prediction\n",
        "def predict_image(image_path):\n",
        "    img = image.load_img(image_path, target_size=(128, 128))\n",
        "    img_array = image.img_to_array(img) / 255.0\n",
        "    img_array = np.expand_dims(img_array, axis=0)\n",
        "    prediction = model.predict(img_array)\n",
        "    predicted_class = np.argmax(prediction)\n",
        "    return predicted_class\n",
        "\n",
        "# Set up Streamlit interface\n",
        "st.title('Plant Disease Prediction App')\n",
        "uploaded_file = st.file_uploader(\"Choose an image...\", type=[\"jpg\", \"png\", \"jpeg\"])\n",
        "\n",
        "if uploaded_file is not None:\n",
        "    # Save the uploaded image\n",
        "    with open(\"uploaded_image.jpg\", \"wb\") as f:\n",
        "        f.write(uploaded_file.getbuffer())\n",
        "\n",
        "    # Predict on the uploaded image\n",
        "    result = predict_image(\"uploaded_image.jpg\")\n",
        "    st.image(\"uploaded_image.jpg\", caption='Uploaded Image', use_column_width=True)\n",
        "    st.write(f\"Predicted Class: {result}\")\n"
      ],
      "metadata": {
        "colab": {
          "base_uri": "https://localhost:8080/"
        },
        "id": "CpiqmtFcN98D",
        "outputId": "90a44829-f73b-469c-de3b-ee7446cd4b4f"
      },
      "execution_count": 17,
      "outputs": [
        {
          "output_type": "stream",
          "name": "stderr",
          "text": [
            "WARNING:absl:Compiled the loaded model, but the compiled metrics have yet to be built. `model.compile_metrics` will be empty until you train or evaluate the model.\n",
            "2025-05-13 16:04:44.968 WARNING streamlit.runtime.scriptrunner_utils.script_run_context: Thread 'MainThread': missing ScriptRunContext! This warning can be ignored when running in bare mode.\n",
            "2025-05-13 16:04:45.177 \n",
            "  \u001b[33m\u001b[1mWarning:\u001b[0m to view this Streamlit app on a browser, run it with the following\n",
            "  command:\n",
            "\n",
            "    streamlit run /usr/local/lib/python3.11/dist-packages/colab_kernel_launcher.py [ARGUMENTS]\n",
            "2025-05-13 16:04:45.179 Thread 'MainThread': missing ScriptRunContext! This warning can be ignored when running in bare mode.\n",
            "2025-05-13 16:04:45.181 Thread 'MainThread': missing ScriptRunContext! This warning can be ignored when running in bare mode.\n",
            "2025-05-13 16:04:45.182 Thread 'MainThread': missing ScriptRunContext! This warning can be ignored when running in bare mode.\n",
            "2025-05-13 16:04:45.183 Thread 'MainThread': missing ScriptRunContext! This warning can be ignored when running in bare mode.\n",
            "2025-05-13 16:04:45.185 Thread 'MainThread': missing ScriptRunContext! This warning can be ignored when running in bare mode.\n",
            "2025-05-13 16:04:45.186 Thread 'MainThread': missing ScriptRunContext! This warning can be ignored when running in bare mode.\n"
          ]
        }
      ]
    },
    {
      "cell_type": "code",
      "source": [
        "!pip install pyngrok\n"
      ],
      "metadata": {
        "colab": {
          "base_uri": "https://localhost:8080/"
        },
        "id": "GlY6XT2kOCjq",
        "outputId": "28f1da94-876b-46f7-98f1-b789e621289c"
      },
      "execution_count": 18,
      "outputs": [
        {
          "output_type": "stream",
          "name": "stdout",
          "text": [
            "Collecting pyngrok\n",
            "  Downloading pyngrok-7.2.8-py3-none-any.whl.metadata (10 kB)\n",
            "Requirement already satisfied: PyYAML>=5.1 in /usr/local/lib/python3.11/dist-packages (from pyngrok) (6.0.2)\n",
            "Downloading pyngrok-7.2.8-py3-none-any.whl (25 kB)\n",
            "Installing collected packages: pyngrok\n",
            "Successfully installed pyngrok-7.2.8\n"
          ]
        }
      ]
    },
    {
      "cell_type": "code",
      "source": [
        "%%writefile app.py\n",
        "import streamlit as st\n",
        "import tensorflow as tf\n",
        "from tensorflow.keras.models import load_model\n",
        "from tensorflow.keras.preprocessing import image\n",
        "import numpy as np\n",
        "\n",
        "# Load model\n",
        "model = load_model('plant_disease_model.h5')\n",
        "\n",
        "st.title('Plant Disease Detection')\n",
        "st.write('Upload an image of the plant leaf to check for disease.')\n",
        "\n",
        "uploaded_file = st.file_uploader(\"Choose a plant leaf image...\", type=[\"jpg\", \"png\", \"jpeg\"])\n",
        "\n",
        "if uploaded_file is not None:\n",
        "    img = image.load_img(uploaded_file, target_size=(224, 224))\n",
        "    img_array = image.img_to_array(img)\n",
        "    img_array = np.expand_dims(img_array, axis=0)\n",
        "    img_array = img_array / 255.0\n",
        "\n",
        "    prediction = model.predict(img_array)\n",
        "    st.image(uploaded_file, caption=\"Uploaded Image\", use_column_width=True)\n",
        "\n",
        "    if prediction[0] > 0.5:  # Example threshold; adjust as needed\n",
        "        st.write(\"The plant is infected!\")\n",
        "    else:\n",
        "        st.write(\"The plant is healthy!\")\n"
      ],
      "metadata": {
        "colab": {
          "base_uri": "https://localhost:8080/"
        },
        "id": "0CA20bYyQr9_",
        "outputId": "00c46314-c441-47c4-9968-d63a01e7030f"
      },
      "execution_count": 29,
      "outputs": [
        {
          "output_type": "stream",
          "name": "stdout",
          "text": [
            "Overwriting app.py\n"
          ]
        }
      ]
    },
    {
      "cell_type": "code",
      "source": [
        "!pip install streamlit pyngrok --quiet\n"
      ],
      "metadata": {
        "id": "PfOVTdLeSEnY"
      },
      "execution_count": 20,
      "outputs": []
    },
    {
      "cell_type": "code",
      "source": [
        "%%writefile app.py\n",
        "import streamlit as st\n",
        "\n",
        "st.title(\"🌿 Plant Disease Detection\")\n",
        "st.write(\"Upload a leaf image to check for disease (Demo)\")\n"
      ],
      "metadata": {
        "colab": {
          "base_uri": "https://localhost:8080/"
        },
        "id": "c2IquVViSSoj",
        "outputId": "254c694e-f927-4361-a6d8-91ff807a11e9"
      },
      "execution_count": 30,
      "outputs": [
        {
          "output_type": "stream",
          "name": "stdout",
          "text": [
            "Overwriting app.py\n"
          ]
        }
      ]
    },
    {
      "cell_type": "code",
      "source": [
        "%%writefile app.py\n",
        "import streamlit as st\n",
        "import numpy as np\n",
        "from PIL import Image\n",
        "from tensorflow.keras.models import load_model\n",
        "from tensorflow.keras.preprocessing.image import img_to_array\n",
        "\n",
        "# Load the trained model\n",
        "model = load_model(\"plant_disease_model.h5\")\n",
        "\n",
        "# Class labels (update based on your training data)\n",
        "class_labels = [\n",
        "    \"Apple Scab\", \"Apple Black Rot\", \"Apple Cedar Rust\", \"Apple Healthy\",\n",
        "    \"Corn Gray Leaf Spot\", \"Corn Common Rust\", \"Corn Northern Leaf Blight\", \"Corn Healthy\",\n",
        "    \"Grape Black Rot\", \"Grape Esca\", \"Grape Leaf Blight\", \"Grape Healthy\"\n",
        "]\n",
        "\n",
        "st.title(\"🌿 Plant Disease Detection\")\n",
        "st.write(\"Upload a leaf image to identify the disease.\")\n",
        "\n",
        "uploaded_file = st.file_uploader(\"Choose a leaf image\", type=[\"jpg\", \"jpeg\", \"png\"])\n",
        "\n",
        "if uploaded_file is not None:\n",
        "    image = Image.open(uploaded_file).resize((224, 224))\n",
        "    st.image(image, caption=\"Uploaded Leaf Image\", use_column_width=True)\n",
        "\n",
        "    # Preprocess the image\n",
        "    img_array = img_to_array(image)\n",
        "    img_array = np.expand_dims(img_array, axis=0) / 255.0\n",
        "\n",
        "    # Make prediction\n",
        "    prediction = model.predict(img_array)\n",
        "    predicted_class = class_labels[np.argmax(prediction)]\n",
        "\n",
        "    st.success(f\"🔍 Predicted Disease: **{predicted_class}**\")\n"
      ],
      "metadata": {
        "colab": {
          "base_uri": "https://localhost:8080/"
        },
        "id": "YY2dKszSZmjd",
        "outputId": "a5e0dd39-dd39-4bf5-8051-c977aafdf17f"
      },
      "execution_count": 31,
      "outputs": [
        {
          "output_type": "stream",
          "name": "stdout",
          "text": [
            "Overwriting app.py\n"
          ]
        }
      ]
    },
    {
      "cell_type": "code",
      "source": [
        "!ls"
      ],
      "metadata": {
        "colab": {
          "base_uri": "https://localhost:8080/"
        },
        "id": "PtlLIdKhaZwt",
        "outputId": "33f56cc3-18a6-45cb-d3a9-1136e2ab69c9"
      },
      "execution_count": 34,
      "outputs": [
        {
          "output_type": "stream",
          "name": "stdout",
          "text": [
            "app.py\tdrive  plant_dataset  plant_disease_model.h5  sample_data\n"
          ]
        }
      ]
    },
    {
      "cell_type": "code",
      "source": [
        "!ngrok config add-authtoken 2x1qcQnqCnJheTfWi6ctlAoW0d2_sjjqG2WbEYiFxZ3NWBQd\n"
      ],
      "metadata": {
        "colab": {
          "base_uri": "https://localhost:8080/"
        },
        "id": "TS4wCbS-azMq",
        "outputId": "c5266aaf-f964-405c-8634-ceaa6e03dc7b"
      },
      "execution_count": 36,
      "outputs": [
        {
          "output_type": "stream",
          "name": "stdout",
          "text": [
            "Authtoken saved to configuration file: /root/.config/ngrok/ngrok.yml\n"
          ]
        }
      ]
    },
    {
      "cell_type": "code",
      "source": [
        "# (Optional) Kill old tunnels\n",
        "from pyngrok import ngrok\n",
        "ngrok.kill()\n",
        "\n",
        "# Run Streamlit app in background\n",
        "!streamlit run app.py --server.port 8501 &\n",
        "\n",
        "# Start ngrok tunnel\n",
        "public_url = ngrok.connect(addr=8501, proto=\"http\")\n",
        "print(\"🌐 Public URL:\", public_url)\n"
      ],
      "metadata": {
        "colab": {
          "base_uri": "https://localhost:8080/"
        },
        "id": "M-B9pxrybElb",
        "outputId": "24b1b239-0132-4bc0-de4d-b0427abf5aa8"
      },
      "execution_count": 37,
      "outputs": [
        {
          "output_type": "stream",
          "name": "stdout",
          "text": [
            "\n",
            "Collecting usage statistics. To deactivate, set browser.gatherUsageStats to false.\n",
            "\u001b[0m\n",
            "2025-05-13 16:13:49.488 Port 8501 is already in use\n",
            "🌐 Public URL: NgrokTunnel: \"https://87a2-34-138-247-240.ngrok-free.app\" -> \"http://localhost:8501\"\n"
          ]
        }
      ]
    }
  ]
}